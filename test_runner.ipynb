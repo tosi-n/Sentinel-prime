{
 "cells": [
  {
   "cell_type": "markdown",
   "metadata": {},
   "source": [
    "# Entity-based Sentiment Analysis"
   ]
  },
  {
   "cell_type": "code",
   "execution_count": 1,
   "metadata": {},
   "outputs": [
    {
     "output_type": "stream",
     "name": "stdout",
     "text": "Collecting numpy>=1.13.3\n  Using cached numpy-1.18.3-cp36-cp36m-macosx_10_9_x86_64.whl (15.2 MB)\nCollecting torch>=0.4.0\n  Using cached torch-1.5.0-cp36-none-macosx_10_9_x86_64.whl (80.5 MB)\nCollecting pytorch-transformers==1.2.0\n  Using cached pytorch_transformers-1.2.0-py3-none-any.whl (176 kB)\nProcessing /Users/tosi-n/Library/Caches/pip/wheels/76/03/bb/589d421d27431bcd2c6da284d5f2286c8e3b2ea3cf1594c074/sklearn-0.0-py2.py3-none-any.whl\nProcessing /Users/tosi-n/Library/Caches/pip/wheels/6e/9c/ed/4499c9865ac1002697793e0ae05ba6be33553d098f3347fb94/future-0.18.2-py3-none-any.whl\nCollecting sentencepiece\n  Using cached sentencepiece-0.1.86-cp36-cp36m-macosx_10_6_x86_64.whl (1.1 MB)\nProcessing /Users/tosi-n/Library/Caches/pip/wheels/c7/a9/1f/700f40c46fa6aef6be0f2ab27d737f5b767b73a9b30a28a26e/regex-2020.4.4-cp36-cp36m-macosx_10_9_x86_64.whl\nProcessing /Users/tosi-n/Library/Caches/pip/wheels/c2/b2/94/1899887e5951f97d46d46782c27b39b555ec2c13b53dc0b554/sacremoses-0.0.41-py3-none-any.whl\nCollecting requests\n  Using cached requests-2.23.0-py2.py3-none-any.whl (58 kB)\nCollecting tqdm\n  Using cached tqdm-4.45.0-py2.py3-none-any.whl (60 kB)\nCollecting boto3\n  Downloading boto3-1.12.46-py2.py3-none-any.whl (128 kB)\n\u001b[K     |████████████████████████████████| 128 kB 236 kB/s \n\u001b[?25hCollecting scikit-learn\n  Using cached scikit_learn-0.22.2.post1-cp36-cp36m-macosx_10_9_x86_64.whl (7.2 MB)\nCollecting joblib\n  Using cached joblib-0.14.1-py2.py3-none-any.whl (294 kB)\nRequirement already satisfied: six in ./sentinel/lib/python3.6/site-packages (from sacremoses->pytorch-transformers==1.2.0->-r requirements.txt (line 3)) (1.14.0)\nCollecting click\n  Using cached click-7.1.1-py2.py3-none-any.whl (82 kB)\nCollecting urllib3!=1.25.0,!=1.25.1,<1.26,>=1.21.1\n  Using cached urllib3-1.25.9-py2.py3-none-any.whl (126 kB)\nCollecting chardet<4,>=3.0.2\n  Using cached chardet-3.0.4-py2.py3-none-any.whl (133 kB)\nCollecting idna<3,>=2.5\n  Using cached idna-2.9-py2.py3-none-any.whl (58 kB)\nCollecting certifi>=2017.4.17\n  Using cached certifi-2020.4.5.1-py2.py3-none-any.whl (157 kB)\nCollecting botocore<1.16.0,>=1.15.46\n  Using cached botocore-1.15.46-py2.py3-none-any.whl (6.1 MB)\nCollecting s3transfer<0.4.0,>=0.3.0\n  Using cached s3transfer-0.3.3-py2.py3-none-any.whl (69 kB)\nCollecting jmespath<1.0.0,>=0.7.1\n  Using cached jmespath-0.9.5-py2.py3-none-any.whl (24 kB)\nCollecting scipy>=0.17.0\n  Using cached scipy-1.4.1-cp36-cp36m-macosx_10_6_intel.whl (28.5 MB)\nRequirement already satisfied: python-dateutil<3.0.0,>=2.1 in ./sentinel/lib/python3.6/site-packages (from botocore<1.16.0,>=1.15.46->boto3->pytorch-transformers==1.2.0->-r requirements.txt (line 3)) (2.8.1)\nCollecting docutils<0.16,>=0.10\n  Using cached docutils-0.15.2-py3-none-any.whl (547 kB)\nInstalling collected packages: numpy, future, torch, sentencepiece, regex, joblib, click, tqdm, sacremoses, urllib3, chardet, idna, certifi, requests, jmespath, docutils, botocore, s3transfer, boto3, pytorch-transformers, scipy, scikit-learn, sklearn\nSuccessfully installed boto3-1.12.46 botocore-1.15.46 certifi-2020.4.5.1 chardet-3.0.4 click-7.1.1 docutils-0.15.2 future-0.18.2 idna-2.9 jmespath-0.9.5 joblib-0.14.1 numpy-1.18.3 pytorch-transformers-1.2.0 regex-2020.4.4 requests-2.23.0 s3transfer-0.3.3 sacremoses-0.0.41 scikit-learn-0.22.2.post1 scipy-1.4.1 sentencepiece-0.1.86 sklearn-0.0 torch-1.5.0 tqdm-4.45.0 urllib3-1.25.9\n"
    }
   ],
   "source": [
    "!pip3 install -r requirements.txt"
   ]
  },
  {
   "cell_type": "code",
   "execution_count": 1,
   "metadata": {},
   "outputs": [],
   "source": [
    "from config.pre_process import tranform_trainset, tranform_testset\n",
    "from aen import AEN_BERT\n",
    "import torch\n",
    "import pandas as pd\n",
    "from model import tsc, load_n_predict"
   ]
  },
  {
   "cell_type": "code",
   "execution_count": 2,
   "metadata": {},
   "outputs": [],
   "source": [
    "h = '/Volumes/Loopdisk/Sentinel_prime/data/Entity_sentiment_trainV2.xlsx'\n",
    "i = '/Volumes/Loopdisk/Sentinel_prime/data/Entity_sentiment_testV2.xlsx'\n",
    "j = '/Volumes/Loopdisk/Sentinel_prime/data/train.csv'\n",
    "k = '/Volumes/Loopdisk/Sentinel_prime/data/dev.csv'\n",
    "l = '/Volumes/Loopdisk/Sentinel_prime/data/test.csv'\n",
    "sentiment_class = 'Sentiment'"
   ]
  },
  {
   "cell_type": "code",
   "execution_count": 3,
   "metadata": {},
   "outputs": [],
   "source": [
    "### TRANSFORM DATA INTO TAB SEPARATED VALUES AS INPUT FOR AEN MODEL TRAINING\n",
    "tranform_trainset(h, sentiment_class, j, k)\n",
    "# tranform_testset(i, l)"
   ]
  },
  {
   "cell_type": "code",
   "execution_count": 2,
   "metadata": {},
   "outputs": [
    {
     "output_type": "stream",
     "name": "stdout",
     "text": "loading file https://s3.amazonaws.com/models.huggingface.co/bert/bert-base-uncased-vocab.txt from cache at /Users/tosi-n/.cache/torch/pytorch_transformers/26bc1ad6c0ac742e9b52263248f6d0f00068293b33709fae12320c0e35ccfbbb.542ce4285a40d23a559526243235df47c5f75c197f04f37d1a0c124c32c9a084\nloading configuration file https://s3.amazonaws.com/models.huggingface.co/bert/bert-base-uncased-config.json from cache at /Users/tosi-n/.cache/torch/pytorch_transformers/4dad0251492946e18ac39290fcfe91b89d370fee250efe9521476438fe8ca185.7156163d5fdc189c3016baca0775ffce230789d7fa2a42ef516483e4ca884517\nModel config {\n  \"architectures\": [\n    \"BertForMaskedLM\"\n  ],\n  \"attention_probs_dropout_prob\": 0.1,\n  \"finetuning_task\": null,\n  \"hidden_act\": \"gelu\",\n  \"hidden_dropout_prob\": 0.1,\n  \"hidden_size\": 768,\n  \"initializer_range\": 0.02,\n  \"intermediate_size\": 3072,\n  \"layer_norm_eps\": 1e-12,\n  \"max_position_embeddings\": 512,\n  \"model_type\": \"bert\",\n  \"num_attention_heads\": 12,\n  \"num_hidden_layers\": 12,\n  \"num_labels\": 2,\n  \"output_attentions\": false,\n  \"output_hidden_states\": false,\n  \"pad_token_id\": 0,\n  \"pruned_heads\": {},\n  \"torchscript\": false,\n  \"type_vocab_size\": 2,\n  \"vocab_size\": 30522\n}\n\nloading weights file https://s3.amazonaws.com/models.huggingface.co/bert/bert-base-uncased-pytorch_model.bin from cache at /Users/tosi-n/.cache/torch/pytorch_transformers/aa1ef1aede4482d0dbcd4d52baad8ae300e60902e88fcb0bebdec09afd232066.36ca03ab34a1a5d5fa7bc3d03d55c4fa650fed07220e2eeebc06ce58d0e9a157\n"
    }
   ],
   "source": [
    "### INSTANTIATE AEN FOR TRAINING\n",
    "model = tsc(AEN_BERT)"
   ]
  },
  {
   "cell_type": "code",
   "execution_count": null,
   "metadata": {},
   "outputs": [],
   "source": [
    "### TRAIN AEN MODEL\n",
    "model.train_model()"
   ]
  },
  {
   "cell_type": "code",
   "execution_count": null,
   "metadata": {},
   "outputs": [],
   "source": [
    "### LOAD TRAINED MODEL FROM STATE_DICT\n",
    "model = load_n_predict(AEN_BERT)"
   ]
  },
  {
   "cell_type": "code",
   "execution_count": null,
   "metadata": {},
   "outputs": [],
   "source": [
    "# model.predict('Got the quote on line which', 'axa', 'was very misunderstanding then rang axa.')  \n",
    "# model.predict('trump is bad, but obama is good.', 'trump', 'trump is bad, but obama is good.')\n",
    "# model.predict('Donald Trump and Barack Obama are US presidents', 'Barack Obama', 'but the later is better.') \n",
    "# model.predict('It was admittedly at 11pm', 'service', 'but they DO claim to offer a 24-hour service and there was no message forthcoming to say that the site was down for maintenance.')  "
   ]
  },
  {
   "cell_type": "code",
   "execution_count": null,
   "metadata": {},
   "outputs": [],
   "source": [
    "# compile_split_sentiment('This little place has a cute interior decor interior decor and affordable city prices.', 'interior decor')\n",
    "# compile_split_sentiment('Got the quote on line which axa was very misunderstanding then rang axa.', 'axa')\n",
    "\n",
    "### APPLY SPLIT CONTRASTIVE FUNCTION TO PREDICT SPECIFIC ENTITY POLARITY FOR INPUT SENTENCE\n",
    "split_sentiment(model, 'trump is bad, but obama is good.', 'obama')"
   ]
  },
  {
   "cell_type": "code",
   "execution_count": null,
   "metadata": {},
   "outputs": [],
   "source": [
    "### INPUT TEST FILE AS DATAFRAME\n",
    "dt = pd.read_excel('./data/Entity_sentiment_testV2.xlsx')\n",
    "dt.head()"
   ]
  },
  {
   "cell_type": "code",
   "execution_count": null,
   "metadata": {},
   "outputs": [],
   "source": [
    "### APPLY SPLIT CONTRASTIVE FUNCTION TO PREDICT SPECIFIC ENTITY POLARITY FOR TEST FILE\n",
    "dt['Sentiment'] = dt.apply(lambda row: split_sentiment(model, row['Sentence'], row['Entity']), axis=1)"
   ]
  },
  {
   "cell_type": "code",
   "execution_count": null,
   "metadata": {},
   "outputs": [],
   "source": [
    "dt.head()"
   ]
  },
  {
   "cell_type": "code",
   "execution_count": null,
   "metadata": {},
   "outputs": [],
   "source": []
  }
 ],
 "metadata": {
  "language_info": {
   "codemirror_mode": {
    "name": "ipython",
    "version": 3
   },
   "file_extension": ".py",
   "mimetype": "text/x-python",
   "name": "python",
   "nbconvert_exporter": "python",
   "pygments_lexer": "ipython3",
   "version": "3.6.8-final"
  },
  "orig_nbformat": 2,
  "kernelspec": {
   "name": "python36864bitsentinelvirtualenve87b6a496347436caeccbe2f8e8fd2cd",
   "display_name": "Python 3.6.8 64-bit ('sentinel': virtualenv)"
  }
 },
 "nbformat": 4,
 "nbformat_minor": 2
}